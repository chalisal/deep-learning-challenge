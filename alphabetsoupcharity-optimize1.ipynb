{
 "cells": [
  {
   "cell_type": "markdown",
   "metadata": {},
   "source": [
    "## Preprocessing"
   ]
  },
  {
   "cell_type": "code",
   "execution_count": 5,
   "metadata": {},
   "outputs": [
    {
     "data": {
      "text/html": [
       "<div>\n",
       "<style scoped>\n",
       "    .dataframe tbody tr th:only-of-type {\n",
       "        vertical-align: middle;\n",
       "    }\n",
       "\n",
       "    .dataframe tbody tr th {\n",
       "        vertical-align: top;\n",
       "    }\n",
       "\n",
       "    .dataframe thead th {\n",
       "        text-align: right;\n",
       "    }\n",
       "</style>\n",
       "<table border=\"1\" class=\"dataframe\">\n",
       "  <thead>\n",
       "    <tr style=\"text-align: right;\">\n",
       "      <th></th>\n",
       "      <th>EIN</th>\n",
       "      <th>NAME</th>\n",
       "      <th>APPLICATION_TYPE</th>\n",
       "      <th>AFFILIATION</th>\n",
       "      <th>CLASSIFICATION</th>\n",
       "      <th>USE_CASE</th>\n",
       "      <th>ORGANIZATION</th>\n",
       "      <th>STATUS</th>\n",
       "      <th>INCOME_AMT</th>\n",
       "      <th>SPECIAL_CONSIDERATIONS</th>\n",
       "      <th>ASK_AMT</th>\n",
       "      <th>IS_SUCCESSFUL</th>\n",
       "    </tr>\n",
       "  </thead>\n",
       "  <tbody>\n",
       "    <tr>\n",
       "      <th>0</th>\n",
       "      <td>10520599</td>\n",
       "      <td>BLUE KNIGHTS MOTORCYCLE CLUB</td>\n",
       "      <td>T10</td>\n",
       "      <td>Independent</td>\n",
       "      <td>C1000</td>\n",
       "      <td>ProductDev</td>\n",
       "      <td>Association</td>\n",
       "      <td>1</td>\n",
       "      <td>0</td>\n",
       "      <td>N</td>\n",
       "      <td>5000</td>\n",
       "      <td>1</td>\n",
       "    </tr>\n",
       "    <tr>\n",
       "      <th>1</th>\n",
       "      <td>10531628</td>\n",
       "      <td>AMERICAN CHESAPEAKE CLUB CHARITABLE TR</td>\n",
       "      <td>T3</td>\n",
       "      <td>Independent</td>\n",
       "      <td>C2000</td>\n",
       "      <td>Preservation</td>\n",
       "      <td>Co-operative</td>\n",
       "      <td>1</td>\n",
       "      <td>1-9999</td>\n",
       "      <td>N</td>\n",
       "      <td>108590</td>\n",
       "      <td>1</td>\n",
       "    </tr>\n",
       "    <tr>\n",
       "      <th>2</th>\n",
       "      <td>10547893</td>\n",
       "      <td>ST CLOUD PROFESSIONAL FIREFIGHTERS</td>\n",
       "      <td>T5</td>\n",
       "      <td>CompanySponsored</td>\n",
       "      <td>C3000</td>\n",
       "      <td>ProductDev</td>\n",
       "      <td>Association</td>\n",
       "      <td>1</td>\n",
       "      <td>0</td>\n",
       "      <td>N</td>\n",
       "      <td>5000</td>\n",
       "      <td>0</td>\n",
       "    </tr>\n",
       "    <tr>\n",
       "      <th>3</th>\n",
       "      <td>10553066</td>\n",
       "      <td>SOUTHSIDE ATHLETIC ASSOCIATION</td>\n",
       "      <td>T3</td>\n",
       "      <td>CompanySponsored</td>\n",
       "      <td>C2000</td>\n",
       "      <td>Preservation</td>\n",
       "      <td>Trust</td>\n",
       "      <td>1</td>\n",
       "      <td>10000-24999</td>\n",
       "      <td>N</td>\n",
       "      <td>6692</td>\n",
       "      <td>1</td>\n",
       "    </tr>\n",
       "    <tr>\n",
       "      <th>4</th>\n",
       "      <td>10556103</td>\n",
       "      <td>GENETIC RESEARCH INSTITUTE OF THE DESERT</td>\n",
       "      <td>T3</td>\n",
       "      <td>Independent</td>\n",
       "      <td>C1000</td>\n",
       "      <td>Heathcare</td>\n",
       "      <td>Trust</td>\n",
       "      <td>1</td>\n",
       "      <td>100000-499999</td>\n",
       "      <td>N</td>\n",
       "      <td>142590</td>\n",
       "      <td>1</td>\n",
       "    </tr>\n",
       "  </tbody>\n",
       "</table>\n",
       "</div>"
      ],
      "text/plain": [
       "        EIN                                      NAME APPLICATION_TYPE  \\\n",
       "0  10520599              BLUE KNIGHTS MOTORCYCLE CLUB              T10   \n",
       "1  10531628    AMERICAN CHESAPEAKE CLUB CHARITABLE TR               T3   \n",
       "2  10547893        ST CLOUD PROFESSIONAL FIREFIGHTERS               T5   \n",
       "3  10553066            SOUTHSIDE ATHLETIC ASSOCIATION               T3   \n",
       "4  10556103  GENETIC RESEARCH INSTITUTE OF THE DESERT               T3   \n",
       "\n",
       "        AFFILIATION CLASSIFICATION      USE_CASE  ORGANIZATION  STATUS  \\\n",
       "0       Independent          C1000    ProductDev   Association       1   \n",
       "1       Independent          C2000  Preservation  Co-operative       1   \n",
       "2  CompanySponsored          C3000    ProductDev   Association       1   \n",
       "3  CompanySponsored          C2000  Preservation         Trust       1   \n",
       "4       Independent          C1000     Heathcare         Trust       1   \n",
       "\n",
       "      INCOME_AMT SPECIAL_CONSIDERATIONS  ASK_AMT  IS_SUCCESSFUL  \n",
       "0              0                      N     5000              1  \n",
       "1         1-9999                      N   108590              1  \n",
       "2              0                      N     5000              0  \n",
       "3    10000-24999                      N     6692              1  \n",
       "4  100000-499999                      N   142590              1  "
      ]
     },
     "execution_count": 5,
     "metadata": {},
     "output_type": "execute_result"
    }
   ],
   "source": [
    "# Import our dependencies\n",
    "from sklearn.model_selection import train_test_split\n",
    "from sklearn.preprocessing import StandardScaler\n",
    "import pandas as pd\n",
    "import tensorflow as tf\n",
    "import warnings\n",
    "warnings.filterwarnings(\"ignore\")\n",
    "\n",
    "#  Import and read the charity_data.csv.\n",
    "import pandas as pd\n",
    "application_df = pd.read_csv(\"https://static.bc-edx.com/data/dl-1-2/m21/lms/starter/charity_data.csv\")\n",
    "application_df.head()"
   ]
  },
  {
   "cell_type": "code",
   "execution_count": 6,
   "metadata": {},
   "outputs": [],
   "source": [
    "# Drop the non-beneficial ID columns, 'EIN' and 'NAME'.\n",
    "application_df.drop(columns=[\"EIN\"], axis=1, inplace=True)\n"
   ]
  },
  {
   "cell_type": "code",
   "execution_count": 7,
   "metadata": {},
   "outputs": [
    {
     "data": {
      "text/plain": [
       "NAME                      19568\n",
       "APPLICATION_TYPE             17\n",
       "AFFILIATION                   6\n",
       "CLASSIFICATION               71\n",
       "USE_CASE                      5\n",
       "ORGANIZATION                  4\n",
       "STATUS                        2\n",
       "INCOME_AMT                    9\n",
       "SPECIAL_CONSIDERATIONS        2\n",
       "ASK_AMT                    8747\n",
       "IS_SUCCESSFUL                 2\n",
       "dtype: int64"
      ]
     },
     "execution_count": 7,
     "metadata": {},
     "output_type": "execute_result"
    }
   ],
   "source": [
    "# Determine the number of unique values in each column.\n",
    "application_df.nunique()"
   ]
  },
  {
   "cell_type": "code",
   "execution_count": 10,
   "metadata": {},
   "outputs": [
    {
     "data": {
      "text/plain": [
       "NAME\n",
       "PARENT BOOSTER USA INC                                                  1260\n",
       "TOPS CLUB INC                                                            765\n",
       "UNITED STATES BOWLING CONGRESS INC                                       700\n",
       "WASHINGTON STATE UNIVERSITY                                              492\n",
       "AMATEUR ATHLETIC UNION OF THE UNITED STATES INC                          408\n",
       "                                                                        ... \n",
       "ST LOUIS SLAM WOMENS FOOTBALL                                              1\n",
       "AIESEC ALUMNI IBEROAMERICA CORP                                            1\n",
       "WEALLBLEEDRED ORG INC                                                      1\n",
       "AMERICAN SOCIETY FOR STANDARDS IN MEDIUMSHIP & PSYCHICAL INVESTIGATI       1\n",
       "WATERHOUSE CHARITABLE TR                                                   1\n",
       "Name: count, Length: 19568, dtype: int64"
      ]
     },
     "execution_count": 10,
     "metadata": {},
     "output_type": "execute_result"
    }
   ],
   "source": [
    "counts = application_df[\"NAME\"].value_counts()\n",
    "counts"
   ]
  },
  {
   "cell_type": "code",
   "execution_count": 13,
   "metadata": {},
   "outputs": [
    {
     "data": {
      "text/plain": [
       "NAME\n",
       "Other                                                                 25987\n",
       "PARENT BOOSTER USA INC                                                 1260\n",
       "TOPS CLUB INC                                                           765\n",
       "UNITED STATES BOWLING CONGRESS INC                                      700\n",
       "WASHINGTON STATE UNIVERSITY                                             492\n",
       "AMATEUR ATHLETIC UNION OF THE UNITED STATES INC                         408\n",
       "PTA TEXAS CONGRESS                                                      368\n",
       "SOROPTIMIST INTERNATIONAL OF THE AMERICAS INC                           331\n",
       "ALPHA PHI SIGMA                                                         313\n",
       "TOASTMASTERS INTERNATIONAL                                              293\n",
       "MOST WORSHIPFUL STRINGER FREE AND ACCEPTED MASONS                       287\n",
       "LITTLE LEAGUE BASEBALL INC                                              277\n",
       "INTERNATIONAL ASSOCIATION OF LIONS CLUBS                                266\n",
       "MOMS CLUB                                                               210\n",
       "INTERNATIONAL ASSOCIATION OF SHEET METAL AIR RAIL & TRANSPORTATION      206\n",
       "AMERICAN ASSOCIATION OF UNIVERSITY WOMEN                                197\n",
       "FARMERS EDUCATIONAL AND COOPERATIVE UNION OF AMERICA                    166\n",
       "KNIGHTS OF COLUMBUS                                                     158\n",
       "HABITAT FOR HUMANITY INTERNATIONAL INC                                  154\n",
       "TENNESSEE ORDER OF THE EASTERN STAR                                     151\n",
       "VETERANS OF FOREIGN WARS OF THE UNITED STATES AUXILIARY                 144\n",
       "PTA UTAH CONGRESS                                                       140\n",
       "THE UNITED STATES PONY CLUBS INC                                        136\n",
       "CIVITAN INTERNATIONAL                                                   131\n",
       "SIGMA BETA DELTA INC                                                    127\n",
       "HONOR SOCIETY OF PHI KAPPA PHI                                          107\n",
       "MONTANA 4-H FOUNDATION INC                                              107\n",
       "WASHINGTON STATE GRANGE                                                 106\n",
       "UNIVERSITY OF WYOMING                                                   105\n",
       "DEMOLAY INTERNATIONAL                                                   104\n",
       "SERTOMA INC                                                             103\n",
       "Name: count, dtype: int64"
      ]
     },
     "execution_count": 13,
     "metadata": {},
     "output_type": "execute_result"
    }
   ],
   "source": [
    "names_types_to_replace = list(counts[counts < 100].index)\n",
    "# Replace in dataframe\n",
    "for app in names_types_to_replace:\n",
    "    application_df['NAME'] = application_df['NAME'].replace(app,\"Other\")\n",
    "\n",
    "# Check to make sure replacement was successful\n",
    "application_df['NAME'].value_counts()"
   ]
  },
  {
   "cell_type": "code",
   "execution_count": 15,
   "metadata": {},
   "outputs": [
    {
     "data": {
      "text/plain": [
       "APPLICATION_TYPE\n",
       "T3     27037\n",
       "T4      1542\n",
       "T6      1216\n",
       "T5      1173\n",
       "T19     1065\n",
       "T8       737\n",
       "T7       725\n",
       "T10      528\n",
       "T9       156\n",
       "T13       66\n",
       "T12       27\n",
       "T2        16\n",
       "T25        3\n",
       "T14        3\n",
       "T29        2\n",
       "T15        2\n",
       "T17        1\n",
       "Name: count, dtype: int64"
      ]
     },
     "execution_count": 15,
     "metadata": {},
     "output_type": "execute_result"
    }
   ],
   "source": [
    "# Look at APPLICATION_TYPE value counts to identify and replace with \"Other\"\n",
    "counts = application_df[\"APPLICATION_TYPE\"].value_counts()\n",
    "counts"
   ]
  },
  {
   "cell_type": "code",
   "execution_count": null,
   "metadata": {},
   "outputs": [],
   "source": []
  },
  {
   "cell_type": "code",
   "execution_count": 16,
   "metadata": {},
   "outputs": [
    {
     "data": {
      "text/plain": [
       "['T9', 'T13', 'T12', 'T2', 'T25', 'T14', 'T29', 'T15', 'T17']"
      ]
     },
     "execution_count": 16,
     "metadata": {},
     "output_type": "execute_result"
    }
   ],
   "source": [
    "list(counts[counts < 500].index)"
   ]
  },
  {
   "cell_type": "code",
   "execution_count": 17,
   "metadata": {},
   "outputs": [
    {
     "data": {
      "text/plain": [
       "APPLICATION_TYPE\n",
       "T3       27037\n",
       "T4        1542\n",
       "T6        1216\n",
       "T5        1173\n",
       "T19       1065\n",
       "T8         737\n",
       "T7         725\n",
       "T10        528\n",
       "Other      276\n",
       "Name: count, dtype: int64"
      ]
     },
     "execution_count": 17,
     "metadata": {},
     "output_type": "execute_result"
    }
   ],
   "source": [
    "# Choose a cutoff value and create a list of application types to be replaced\n",
    "# use the variable name `application_types_to_replace`\n",
    "application_types_to_replace = list(counts[counts < 500].index)\n",
    "# Replace in dataframe\n",
    "for app in application_types_to_replace:\n",
    "    application_df['APPLICATION_TYPE'] = application_df['APPLICATION_TYPE'].replace(app,\"Other\")\n",
    "\n",
    "# Check to make sure replacement was successful\n",
    "application_df['APPLICATION_TYPE'].value_counts()"
   ]
  },
  {
   "cell_type": "code",
   "execution_count": 18,
   "metadata": {},
   "outputs": [
    {
     "data": {
      "text/plain": [
       "CLASSIFICATION\n",
       "C1000    17326\n",
       "C2000     6074\n",
       "C1200     4837\n",
       "C3000     1918\n",
       "C2100     1883\n",
       "         ...  \n",
       "C4120        1\n",
       "C8210        1\n",
       "C2561        1\n",
       "C4500        1\n",
       "C2150        1\n",
       "Name: count, Length: 71, dtype: int64"
      ]
     },
     "execution_count": 18,
     "metadata": {},
     "output_type": "execute_result"
    }
   ],
   "source": [
    "# Look at CLASSIFICATION value counts to identify and replace with \"Other\"\n",
    "counts = application_df[\"CLASSIFICATION\"].value_counts()\n",
    "counts"
   ]
  },
  {
   "cell_type": "code",
   "execution_count": 19,
   "metadata": {},
   "outputs": [
    {
     "data": {
      "text/plain": [
       "CLASSIFICATION\n",
       "C1000    17326\n",
       "C2000     6074\n",
       "C1200     4837\n",
       "C3000     1918\n",
       "C2100     1883\n",
       "C7000      777\n",
       "C1700      287\n",
       "C4000      194\n",
       "C5000      116\n",
       "C1270      114\n",
       "C2700      104\n",
       "C2800       95\n",
       "C7100       75\n",
       "C1300       58\n",
       "C1280       50\n",
       "C1230       36\n",
       "C1400       34\n",
       "C7200       32\n",
       "C2300       32\n",
       "C1240       30\n",
       "C8000       20\n",
       "C7120       18\n",
       "C1500       16\n",
       "C1800       15\n",
       "C6000       15\n",
       "C1250       14\n",
       "C8200       11\n",
       "C1238       10\n",
       "C1278       10\n",
       "C1235        9\n",
       "C1237        9\n",
       "C7210        7\n",
       "C2400        6\n",
       "C1720        6\n",
       "C4100        6\n",
       "C1257        5\n",
       "C1600        5\n",
       "C1260        3\n",
       "C2710        3\n",
       "C0           3\n",
       "C3200        2\n",
       "C1234        2\n",
       "C1246        2\n",
       "C1267        2\n",
       "C1256        2\n",
       "Name: count, dtype: int64"
      ]
     },
     "execution_count": 19,
     "metadata": {},
     "output_type": "execute_result"
    }
   ],
   "source": [
    "# You may find it helpful to look at CLASSIFICATION value counts >1\n",
    "counts[counts > 1]"
   ]
  },
  {
   "cell_type": "code",
   "execution_count": 20,
   "metadata": {},
   "outputs": [
    {
     "data": {
      "text/plain": [
       "CLASSIFICATION\n",
       "C1000    17326\n",
       "C2000     6074\n",
       "C1200     4837\n",
       "Other     2261\n",
       "C3000     1918\n",
       "C2100     1883\n",
       "Name: count, dtype: int64"
      ]
     },
     "execution_count": 20,
     "metadata": {},
     "output_type": "execute_result"
    }
   ],
   "source": [
    "# Choose a cutoff value and create a list of classifications to be replaced\n",
    "# use the variable name `classifications_to_replace`\n",
    "classifications_to_replace = list(counts[counts < 1883].index)\n",
    "\n",
    "# Replace in dataframe\n",
    "for cls in classifications_to_replace:\n",
    "    application_df['CLASSIFICATION'] = application_df['CLASSIFICATION'].replace(cls,\"Other\")\n",
    "\n",
    "# Check to make sure replacement was successful\n",
    "application_df['CLASSIFICATION'].value_counts()"
   ]
  },
  {
   "cell_type": "code",
   "execution_count": 21,
   "metadata": {},
   "outputs": [],
   "source": [
    "# Convert categorical data to numeric with `pd.get_dummies`\n",
    "application_df = pd.get_dummies(application_df)"
   ]
  },
  {
   "cell_type": "code",
   "execution_count": 22,
   "metadata": {},
   "outputs": [],
   "source": [
    "# Split our preprocessed data into our features and target arrays\n",
    "y = application_df[\"IS_SUCCESSFUL\"].values\n",
    "X = application_df.drop([\"IS_SUCCESSFUL\"],axis=\"columns\").values\n",
    "\n",
    "# Split the preprocessed data into a training and testing dataset\n",
    "from sklearn.model_selection import train_test_split\n",
    "X_train, X_test, y_train, y_test = train_test_split(X, y, random_state=78)"
   ]
  },
  {
   "cell_type": "code",
   "execution_count": 23,
   "metadata": {},
   "outputs": [],
   "source": [
    "# Create a StandardScaler instances\n",
    "scaler = StandardScaler()\n",
    "\n",
    "# Fit the StandardScaler\n",
    "X_scaler = scaler.fit(X_train)\n",
    "\n",
    "# Scale the data\n",
    "X_train_scaled = X_scaler.transform(X_train)\n",
    "X_test_scaled = X_scaler.transform(X_test)"
   ]
  },
  {
   "cell_type": "markdown",
   "metadata": {},
   "source": [
    "## Compile, Train and Evaluate the Model"
   ]
  },
  {
   "cell_type": "code",
   "execution_count": 24,
   "metadata": {
    "scrolled": true
   },
   "outputs": [
    {
     "name": "stdout",
     "output_type": "stream",
     "text": [
      "Model: \"sequential_1\"\n",
      "_________________________________________________________________\n",
      " Layer (type)                Output Shape              Param #   \n",
      "=================================================================\n",
      " dense (Dense)               (None, 80)                6000      \n",
      "                                                                 \n",
      " dense_1 (Dense)             (None, 30)                2430      \n",
      "                                                                 \n",
      " dense_2 (Dense)             (None, 1)                 31        \n",
      "                                                                 \n",
      "=================================================================\n",
      "Total params: 8,461\n",
      "Trainable params: 8,461\n",
      "Non-trainable params: 0\n",
      "_________________________________________________________________\n"
     ]
    },
    {
     "name": "stderr",
     "output_type": "stream",
     "text": [
      "2024-05-22 13:41:15.068234: I tensorflow/core/platform/cpu_feature_guard.cc:193] This TensorFlow binary is optimized with oneAPI Deep Neural Network Library (oneDNN) to use the following CPU instructions in performance-critical operations:  SSE4.1 SSE4.2 AVX AVX2 FMA\n",
      "To enable them in other operations, rebuild TensorFlow with the appropriate compiler flags.\n"
     ]
    }
   ],
   "source": [
    "# Define the model - deep neural net, i.e., the number of input features and hidden nodes for each layer.\n",
    "x = len(X_train_scaled[0])\n",
    "\n",
    "nn = tf.keras.models.Sequential()\n",
    "\n",
    "# First hidden layer\n",
    "nn = tf.keras.models.Sequential()\n",
    "\n",
    "nn.add(tf.keras.layers.Dense(units=80, activation=\"relu\", input_dim=x))\n",
    "\n",
    "\n",
    "# Second hidden layer\n",
    "nn.add(tf.keras.layers.Dense(units=30, activation=\"relu\"))\n",
    "\n",
    "# Output layer\n",
    "nn.add(tf.keras.layers.Dense(units=1, activation=\"sigmoid\"))\n",
    "\n",
    "# Check the structure of the model\n",
    "nn.summary()"
   ]
  },
  {
   "cell_type": "code",
   "execution_count": 25,
   "metadata": {
    "scrolled": true
   },
   "outputs": [],
   "source": [
    "# Compile the model\n",
    "nn.compile(loss=\"binary_crossentropy\", optimizer=\"adam\", metrics=[\"accuracy\"])"
   ]
  },
  {
   "cell_type": "code",
   "execution_count": 26,
   "metadata": {},
   "outputs": [
    {
     "name": "stdout",
     "output_type": "stream",
     "text": [
      "Epoch 1/100\n",
      "804/804 [==============================] - 2s 2ms/step - loss: 0.5135 - accuracy: 0.7427\n",
      "Epoch 2/100\n",
      "804/804 [==============================] - 2s 2ms/step - loss: 0.4931 - accuracy: 0.7573\n",
      "Epoch 3/100\n",
      "804/804 [==============================] - 2s 3ms/step - loss: 0.4901 - accuracy: 0.7592\n",
      "Epoch 4/100\n",
      "804/804 [==============================] - 2s 3ms/step - loss: 0.4883 - accuracy: 0.7607\n",
      "Epoch 5/100\n",
      "804/804 [==============================] - 2s 3ms/step - loss: 0.4867 - accuracy: 0.7587\n",
      "Epoch 6/100\n",
      "804/804 [==============================] - 2s 2ms/step - loss: 0.4867 - accuracy: 0.7606\n",
      "Epoch 7/100\n",
      "804/804 [==============================] - 3s 4ms/step - loss: 0.4860 - accuracy: 0.7622\n",
      "Epoch 8/100\n",
      "804/804 [==============================] - 2s 3ms/step - loss: 0.4851 - accuracy: 0.7599\n",
      "Epoch 9/100\n",
      "804/804 [==============================] - 2s 3ms/step - loss: 0.4837 - accuracy: 0.7624\n",
      "Epoch 10/100\n",
      "804/804 [==============================] - 2s 2ms/step - loss: 0.4838 - accuracy: 0.7619\n",
      "Epoch 11/100\n",
      "804/804 [==============================] - 2s 2ms/step - loss: 0.4828 - accuracy: 0.7635\n",
      "Epoch 12/100\n",
      "804/804 [==============================] - 2s 2ms/step - loss: 0.4823 - accuracy: 0.7624\n",
      "Epoch 13/100\n",
      "804/804 [==============================] - 2s 3ms/step - loss: 0.4818 - accuracy: 0.7637\n",
      "Epoch 14/100\n",
      "804/804 [==============================] - 3s 4ms/step - loss: 0.4815 - accuracy: 0.7633\n",
      "Epoch 15/100\n",
      "804/804 [==============================] - 2s 2ms/step - loss: 0.4810 - accuracy: 0.7639\n",
      "Epoch 16/100\n",
      "804/804 [==============================] - 2s 2ms/step - loss: 0.4806 - accuracy: 0.7643\n",
      "Epoch 17/100\n",
      "804/804 [==============================] - 2s 3ms/step - loss: 0.4806 - accuracy: 0.7636\n",
      "Epoch 18/100\n",
      "804/804 [==============================] - 3s 3ms/step - loss: 0.4804 - accuracy: 0.7636\n",
      "Epoch 19/100\n",
      "804/804 [==============================] - 2s 2ms/step - loss: 0.4798 - accuracy: 0.7642\n",
      "Epoch 20/100\n",
      "804/804 [==============================] - 2s 3ms/step - loss: 0.4795 - accuracy: 0.7652\n",
      "Epoch 21/100\n",
      "804/804 [==============================] - 2s 3ms/step - loss: 0.4799 - accuracy: 0.7637\n",
      "Epoch 22/100\n",
      "804/804 [==============================] - 2s 3ms/step - loss: 0.4790 - accuracy: 0.7655\n",
      "Epoch 23/100\n",
      "804/804 [==============================] - 2s 2ms/step - loss: 0.4792 - accuracy: 0.7641\n",
      "Epoch 24/100\n",
      "804/804 [==============================] - 2s 2ms/step - loss: 0.4784 - accuracy: 0.7658\n",
      "Epoch 25/100\n",
      "804/804 [==============================] - 2s 2ms/step - loss: 0.4781 - accuracy: 0.7657\n",
      "Epoch 26/100\n",
      "804/804 [==============================] - 1s 2ms/step - loss: 0.4784 - accuracy: 0.7652\n",
      "Epoch 27/100\n",
      "804/804 [==============================] - 2s 2ms/step - loss: 0.4779 - accuracy: 0.7659\n",
      "Epoch 28/100\n",
      "804/804 [==============================] - 2s 3ms/step - loss: 0.4779 - accuracy: 0.7662\n",
      "Epoch 29/100\n",
      "804/804 [==============================] - 2s 3ms/step - loss: 0.4776 - accuracy: 0.7665\n",
      "Epoch 30/100\n",
      "804/804 [==============================] - 2s 2ms/step - loss: 0.4775 - accuracy: 0.7655\n",
      "Epoch 31/100\n",
      "804/804 [==============================] - 2s 3ms/step - loss: 0.4770 - accuracy: 0.7667\n",
      "Epoch 32/100\n",
      "804/804 [==============================] - 2s 2ms/step - loss: 0.4767 - accuracy: 0.7658\n",
      "Epoch 33/100\n",
      "804/804 [==============================] - 2s 2ms/step - loss: 0.4768 - accuracy: 0.7665\n",
      "Epoch 34/100\n",
      "804/804 [==============================] - 2s 2ms/step - loss: 0.4767 - accuracy: 0.7666\n",
      "Epoch 35/100\n",
      "804/804 [==============================] - 2s 3ms/step - loss: 0.4764 - accuracy: 0.7661\n",
      "Epoch 36/100\n",
      "804/804 [==============================] - 3s 3ms/step - loss: 0.4761 - accuracy: 0.7668\n",
      "Epoch 37/100\n",
      "804/804 [==============================] - 2s 2ms/step - loss: 0.4762 - accuracy: 0.7667\n",
      "Epoch 38/100\n",
      "804/804 [==============================] - 2s 2ms/step - loss: 0.4762 - accuracy: 0.7667\n",
      "Epoch 39/100\n",
      "804/804 [==============================] - 2s 3ms/step - loss: 0.4754 - accuracy: 0.7672\n",
      "Epoch 40/100\n",
      "804/804 [==============================] - 2s 3ms/step - loss: 0.4759 - accuracy: 0.7669\n",
      "Epoch 41/100\n",
      "804/804 [==============================] - 2s 2ms/step - loss: 0.4752 - accuracy: 0.7680\n",
      "Epoch 42/100\n",
      "804/804 [==============================] - 2s 2ms/step - loss: 0.4754 - accuracy: 0.7668\n",
      "Epoch 43/100\n",
      "804/804 [==============================] - 2s 2ms/step - loss: 0.4751 - accuracy: 0.7673\n",
      "Epoch 44/100\n",
      "804/804 [==============================] - 2s 2ms/step - loss: 0.4748 - accuracy: 0.7671\n",
      "Epoch 45/100\n",
      "804/804 [==============================] - 2s 2ms/step - loss: 0.4745 - accuracy: 0.7678\n",
      "Epoch 46/100\n",
      "804/804 [==============================] - 2s 2ms/step - loss: 0.4745 - accuracy: 0.7673\n",
      "Epoch 47/100\n",
      "804/804 [==============================] - 2s 2ms/step - loss: 0.4747 - accuracy: 0.7678\n",
      "Epoch 48/100\n",
      "804/804 [==============================] - 2s 2ms/step - loss: 0.4746 - accuracy: 0.7663\n",
      "Epoch 49/100\n",
      "804/804 [==============================] - 2s 2ms/step - loss: 0.4744 - accuracy: 0.7668\n",
      "Epoch 50/100\n",
      "804/804 [==============================] - 2s 2ms/step - loss: 0.4748 - accuracy: 0.7678\n",
      "Epoch 51/100\n",
      "804/804 [==============================] - 2s 3ms/step - loss: 0.4743 - accuracy: 0.7677\n",
      "Epoch 52/100\n",
      "804/804 [==============================] - 2s 2ms/step - loss: 0.4743 - accuracy: 0.7673\n",
      "Epoch 53/100\n",
      "804/804 [==============================] - 2s 3ms/step - loss: 0.4746 - accuracy: 0.7678\n",
      "Epoch 54/100\n",
      "804/804 [==============================] - 2s 2ms/step - loss: 0.4740 - accuracy: 0.7679\n",
      "Epoch 55/100\n",
      "804/804 [==============================] - 2s 3ms/step - loss: 0.4740 - accuracy: 0.7672\n",
      "Epoch 56/100\n",
      "804/804 [==============================] - 2s 2ms/step - loss: 0.4737 - accuracy: 0.7669\n",
      "Epoch 57/100\n",
      "804/804 [==============================] - 2s 3ms/step - loss: 0.4737 - accuracy: 0.7675\n",
      "Epoch 58/100\n",
      "804/804 [==============================] - 2s 2ms/step - loss: 0.4740 - accuracy: 0.7684\n",
      "Epoch 59/100\n",
      "804/804 [==============================] - 2s 2ms/step - loss: 0.4735 - accuracy: 0.7679\n",
      "Epoch 60/100\n",
      "804/804 [==============================] - 2s 2ms/step - loss: 0.4734 - accuracy: 0.7677\n",
      "Epoch 61/100\n",
      "804/804 [==============================] - 2s 2ms/step - loss: 0.4736 - accuracy: 0.7673\n",
      "Epoch 62/100\n",
      "804/804 [==============================] - 2s 3ms/step - loss: 0.4734 - accuracy: 0.7677\n",
      "Epoch 63/100\n",
      "804/804 [==============================] - 2s 2ms/step - loss: 0.4736 - accuracy: 0.7678\n",
      "Epoch 64/100\n",
      "804/804 [==============================] - 2s 2ms/step - loss: 0.4732 - accuracy: 0.7671\n",
      "Epoch 65/100\n",
      "804/804 [==============================] - 2s 2ms/step - loss: 0.4737 - accuracy: 0.7670\n",
      "Epoch 66/100\n",
      "804/804 [==============================] - 2s 2ms/step - loss: 0.4731 - accuracy: 0.7676\n",
      "Epoch 67/100\n",
      "804/804 [==============================] - 2s 2ms/step - loss: 0.4728 - accuracy: 0.7685\n",
      "Epoch 68/100\n",
      "804/804 [==============================] - 2s 2ms/step - loss: 0.4730 - accuracy: 0.7682\n",
      "Epoch 69/100\n",
      "804/804 [==============================] - 2s 2ms/step - loss: 0.4730 - accuracy: 0.7684\n",
      "Epoch 70/100\n",
      "804/804 [==============================] - 2s 2ms/step - loss: 0.4728 - accuracy: 0.7682\n",
      "Epoch 71/100\n",
      "804/804 [==============================] - 2s 2ms/step - loss: 0.4728 - accuracy: 0.7676\n",
      "Epoch 72/100\n",
      "804/804 [==============================] - 2s 2ms/step - loss: 0.4725 - accuracy: 0.7681\n",
      "Epoch 73/100\n",
      "804/804 [==============================] - 2s 2ms/step - loss: 0.4732 - accuracy: 0.7675\n",
      "Epoch 74/100\n",
      "804/804 [==============================] - 2s 2ms/step - loss: 0.4727 - accuracy: 0.7684\n",
      "Epoch 75/100\n",
      "804/804 [==============================] - 2s 2ms/step - loss: 0.4726 - accuracy: 0.7684\n",
      "Epoch 76/100\n",
      "804/804 [==============================] - 2s 2ms/step - loss: 0.4727 - accuracy: 0.7682\n",
      "Epoch 77/100\n",
      "804/804 [==============================] - 2s 2ms/step - loss: 0.4725 - accuracy: 0.7683\n",
      "Epoch 78/100\n",
      "804/804 [==============================] - 2s 2ms/step - loss: 0.4725 - accuracy: 0.7685\n",
      "Epoch 79/100\n",
      "804/804 [==============================] - 2s 2ms/step - loss: 0.4725 - accuracy: 0.7678\n",
      "Epoch 80/100\n",
      "804/804 [==============================] - 2s 2ms/step - loss: 0.4722 - accuracy: 0.7676\n",
      "Epoch 81/100\n",
      "804/804 [==============================] - 2s 2ms/step - loss: 0.4724 - accuracy: 0.7677\n",
      "Epoch 82/100\n",
      "804/804 [==============================] - 2s 2ms/step - loss: 0.4721 - accuracy: 0.7677\n",
      "Epoch 83/100\n",
      "804/804 [==============================] - 2s 2ms/step - loss: 0.4724 - accuracy: 0.7677\n",
      "Epoch 84/100\n",
      "804/804 [==============================] - 2s 2ms/step - loss: 0.4718 - accuracy: 0.7689\n",
      "Epoch 85/100\n",
      "804/804 [==============================] - 2s 2ms/step - loss: 0.4718 - accuracy: 0.7689\n",
      "Epoch 86/100\n",
      "804/804 [==============================] - 2s 2ms/step - loss: 0.4720 - accuracy: 0.7681\n",
      "Epoch 87/100\n",
      "804/804 [==============================] - 2s 2ms/step - loss: 0.4717 - accuracy: 0.7676\n",
      "Epoch 88/100\n",
      "804/804 [==============================] - 3s 3ms/step - loss: 0.4717 - accuracy: 0.7687\n",
      "Epoch 89/100\n",
      "804/804 [==============================] - 2s 2ms/step - loss: 0.4718 - accuracy: 0.7693\n",
      "Epoch 90/100\n",
      "804/804 [==============================] - 2s 2ms/step - loss: 0.4713 - accuracy: 0.7684\n",
      "Epoch 91/100\n",
      "804/804 [==============================] - 2s 2ms/step - loss: 0.4717 - accuracy: 0.7679\n",
      "Epoch 92/100\n",
      "804/804 [==============================] - 2s 2ms/step - loss: 0.4716 - accuracy: 0.7675\n",
      "Epoch 93/100\n",
      "804/804 [==============================] - 2s 2ms/step - loss: 0.4712 - accuracy: 0.7675\n",
      "Epoch 94/100\n",
      "804/804 [==============================] - 2s 3ms/step - loss: 0.4718 - accuracy: 0.7683\n",
      "Epoch 95/100\n",
      "804/804 [==============================] - 2s 2ms/step - loss: 0.4715 - accuracy: 0.7691\n",
      "Epoch 96/100\n",
      "804/804 [==============================] - 2s 2ms/step - loss: 0.4712 - accuracy: 0.7676\n",
      "Epoch 97/100\n",
      "804/804 [==============================] - 2s 2ms/step - loss: 0.4713 - accuracy: 0.7692\n",
      "Epoch 98/100\n",
      "804/804 [==============================] - 2s 2ms/step - loss: 0.4715 - accuracy: 0.7686\n",
      "Epoch 99/100\n",
      "804/804 [==============================] - 2s 2ms/step - loss: 0.4709 - accuracy: 0.7686\n",
      "Epoch 100/100\n",
      "804/804 [==============================] - 2s 2ms/step - loss: 0.4716 - accuracy: 0.7690\n"
     ]
    }
   ],
   "source": [
    "# Train the model\n",
    "fit_model = nn.fit(X_train_scaled, y_train, epochs=100)"
   ]
  },
  {
   "cell_type": "code",
   "execution_count": 27,
   "metadata": {},
   "outputs": [
    {
     "name": "stdout",
     "output_type": "stream",
     "text": [
      "268/268 - 1s - loss: 0.5073 - accuracy: 0.7516 - 530ms/epoch - 2ms/step\n",
      "Loss: 0.5072922706604004, Accuracy: 0.7516034841537476\n"
     ]
    }
   ],
   "source": [
    "# Evaluate the model using the test data\n",
    "model_loss, model_accuracy = nn.evaluate(X_test_scaled,y_test,verbose=2)\n",
    "print(f\"Loss: {model_loss}, Accuracy: {model_accuracy}\")"
   ]
  },
  {
   "cell_type": "code",
   "execution_count": 28,
   "metadata": {},
   "outputs": [],
   "source": [
    "# Export our model to HDF5 file\n",
    "nn.save(\"alphabetsoupcharity-optimize1.h5\")"
   ]
  },
  {
   "cell_type": "code",
   "execution_count": null,
   "metadata": {},
   "outputs": [],
   "source": []
  }
 ],
 "metadata": {
  "kernelspec": {
   "display_name": "Python 3 (ipykernel)",
   "language": "python",
   "name": "python3"
  },
  "language_info": {
   "codemirror_mode": {
    "name": "ipython",
    "version": 3
   },
   "file_extension": ".py",
   "mimetype": "text/x-python",
   "name": "python",
   "nbconvert_exporter": "python",
   "pygments_lexer": "ipython3",
   "version": "3.10.13"
  },
  "vscode": {
   "interpreter": {
    "hash": "31f2aee4e71d21fbe5cf8b01ff0e069b9275f58929596ceb00d14d90e3e16cd6"
   }
  }
 },
 "nbformat": 4,
 "nbformat_minor": 4
}
